{
 "cells": [
  {
   "cell_type": "code",
   "execution_count": 1,
   "metadata": {},
   "outputs": [
    {
     "data": {
      "text/plain": [
       "512"
      ]
     },
     "execution_count": 1,
     "metadata": {},
     "output_type": "execute_result"
    }
   ],
   "source": [
    "2 ** 3 ** 2\n",
    "(2 ** 3) ** 2\n",
    "2 ** (3 ** 2)"
   ]
  },
  {
   "cell_type": "code",
   "execution_count": 8,
   "metadata": {},
   "outputs": [
    {
     "name": "stdout",
     "output_type": "stream",
     "text": [
      "What is your radius? 4\n",
      "The area is  50.26544\n"
     ]
    }
   ],
   "source": [
    "response = input(\"What is your radius? \")\n",
    "r = float(response)\n",
    "area = 3.14159 * r**2\n",
    "print(\"The area is \", area)"
   ]
  },
  {
   "cell_type": "code",
   "execution_count": 9,
   "metadata": {},
   "outputs": [
    {
     "name": "stdout",
     "output_type": "stream",
     "text": [
      "What is your radius?4\n",
      "The area is  50.26544\n"
     ]
    }
   ],
   "source": [
    "r = float(input(\"What is your radius?\"))\n",
    "print (\"The area is \", 3.14159 * r ** 2)"
   ]
  },
  {
   "cell_type": "code",
   "execution_count": 10,
   "metadata": {},
   "outputs": [
    {
     "name": "stdout",
     "output_type": "stream",
     "text": [
      "What is your radius?4\n",
      "The area is  50.26544\n"
     ]
    }
   ],
   "source": [
    "print (\"The area is \", 3.14159 * float(input(\"What is your radius?\")) ** 2)"
   ]
  },
  {
   "cell_type": "markdown",
   "metadata": {},
   "source": [
    "# Import turtle"
   ]
  },
  {
   "cell_type": "code",
   "execution_count": 1,
   "metadata": {},
   "outputs": [],
   "source": [
    "import turtle            # Allows us to use turtles"
   ]
  },
  {
   "cell_type": "code",
   "execution_count": null,
   "metadata": {},
   "outputs": [],
   "source": [
    "window = turtle.Screen() # Creates a playground for turtles\n",
    "\n",
    "alex = turtle.Turtle()   # Create a turtle, assign to alex\n",
    "alex.forward(50)         # Tell alex to move forward by 50 units\n",
    "alex.left(90)            # Tell alex to turn by 90 degrees\n",
    "alex.forward(30)         # Complete the second side of a rectangle\n",
    "window.mainloop()        # Wait for user to close window"
   ]
  },
  {
   "cell_type": "code",
   "execution_count": null,
   "metadata": {},
   "outputs": [],
   "source": [
    "window = turtle.Screen()\n",
    "window.bgcolor(\"lightgreen\") # Set the window background color\n",
    "window.title(\"Hello, Tess!\") # Set the window title\n",
    "\n",
    "tess = turtle.Turtle()\n",
    "tess.color(\"blue\")           # Tell tess to change her color\n",
    "tess.pensize(3)              # Tell tess to set her pen width\n",
    "\n",
    "tess.forward(50)\n",
    "tess.left(120)\n",
    "tess.forward(50)\n",
    "window.mainloop() "
   ]
  },
  {
   "cell_type": "code",
   "execution_count": 2,
   "metadata": {},
   "outputs": [],
   "source": [
    "import turtle\n",
    "\n",
    "window = turtle.Screen()\n",
    "window.bgcolor(\"lightgreen\")\n",
    "tess = turtle.Turtle()\n",
    "tess.shape(\"turtle\")\n",
    "tess.color(\"blue\")\n",
    "\n",
    "tess.penup() # This is new\n",
    "size = 20\n",
    "for _ in range(30):\n",
    "    tess.stamp() # Leave an impression on the canvas\n",
    "    size = size + 3 # Increase the size on every iteration\n",
    "    tess.forward(size) # Move tess along\n",
    "    tess.right(24) # ... and turn her\n",
    "\n",
    "window.mainloop()"
   ]
  },
  {
   "cell_type": "markdown",
   "metadata": {},
   "source": [
    "# The Collatz 3n + 1 sequence"
   ]
  },
  {
   "cell_type": "code",
   "execution_count": 3,
   "metadata": {},
   "outputs": [
    {
     "name": "stdout",
     "output_type": "stream",
     "text": [
      "1027371, 3082114, 1541057, 4623172, 2311586, 1155793, 3467380, 1733690, 866845, 2600536, 1300268, 650134, 325067, 975202, 487601, 1462804, 731402, 365701, 1097104, 548552, 274276, 137138, 68569, 205708, 102854, 51427, 154282, 77141, 231424, 115712, 57856, 28928, 14464, 7232, 3616, 1808, 904, 452, 226, 113, 340, 170, 85, 256, 128, 64, 32, 16, 8, 4, 2, 1.\n"
     ]
    }
   ],
   "source": [
    "n = 1027371\n",
    "\n",
    "while n != 1:\n",
    "    print (n, end=\", \")\n",
    "    if n % 2 == 0:         # n is even\n",
    "        n = n // 2\n",
    "    else:                  # n is odd\n",
    "        n = n * 3 + 1\n",
    "print (n, end='.\\n')"
   ]
  },
  {
   "cell_type": "code",
   "execution_count": 6,
   "metadata": {},
   "outputs": [
    {
     "name": "stdout",
     "output_type": "stream",
     "text": [
      "4\n"
     ]
    }
   ],
   "source": [
    "# The following snippet counts the number of decimal digits in a positive integer:\n",
    "n = 3029\n",
    "count = 0\n",
    "while n != 0:\n",
    "    count += 1\n",
    "    n = n // 10\n",
    "print (count)"
   ]
  },
  {
   "cell_type": "code",
   "execution_count": 8,
   "metadata": {},
   "outputs": [
    {
     "name": "stdout",
     "output_type": "stream",
     "text": [
      "3\n"
     ]
    }
   ],
   "source": [
    "# If we wanted to only count digits that are either 0 or 5, adding a conditional before incrementing the counter will do the trick:\n",
    "\n",
    "n = 2574301453\n",
    "count = 0\n",
    "while n > 0:\n",
    "    digit = n % 10\n",
    "    if digit == 0 or digit == 5:\n",
    "        count += 1\n",
    "    n = n // 10\n",
    "print (count)"
   ]
  },
  {
   "cell_type": "code",
   "execution_count": null,
   "metadata": {},
   "outputs": [],
   "source": []
  }
 ],
 "metadata": {
  "kernelspec": {
   "display_name": "Python 3",
   "language": "python",
   "name": "python3"
  },
  "language_info": {
   "codemirror_mode": {
    "name": "ipython",
    "version": 3
   },
   "file_extension": ".py",
   "mimetype": "text/x-python",
   "name": "python",
   "nbconvert_exporter": "python",
   "pygments_lexer": "ipython3",
   "version": "3.8.5"
  }
 },
 "nbformat": 4,
 "nbformat_minor": 4
}
