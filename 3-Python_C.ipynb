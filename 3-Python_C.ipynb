{
 "cells": [
  {
   "cell_type": "markdown",
   "metadata": {},
   "source": [
    "# 6 Iteración"
   ]
  },
  {
   "cell_type": "code",
   "execution_count": 10,
   "metadata": {},
   "outputs": [],
   "source": [
    "def cuentaAtras(n):\n",
    "    while n > 0:\n",
    "        print(n)\n",
    "        n = n - 1\n",
    "    print(\"Despegando!\")"
   ]
  },
  {
   "cell_type": "code",
   "execution_count": 16,
   "metadata": {},
   "outputs": [
    {
     "name": "stdout",
     "output_type": "stream",
     "text": [
      "3\n",
      "2\n",
      "1\n",
      "Despegando!\n"
     ]
    }
   ],
   "source": [
    "cuentaAtras(3)"
   ]
  },
  {
   "cell_type": "code",
   "execution_count": 28,
   "metadata": {},
   "outputs": [],
   "source": [
    "def secuencia(n):\n",
    "    while n != 1:\n",
    "        print(n),\n",
    "        if n%2 == 0:  # n es par\n",
    "            n = n/2\n",
    "        else:         # n es impar   \n",
    "            n = n*3+1"
   ]
  },
  {
   "cell_type": "code",
   "execution_count": 29,
   "metadata": {},
   "outputs": [
    {
     "name": "stdout",
     "output_type": "stream",
     "text": [
      "3\n",
      "10\n",
      "5.0\n",
      "16.0\n",
      "8.0\n",
      "4.0\n",
      "2.0\n"
     ]
    }
   ],
   "source": [
    "secuencia(3)"
   ]
  },
  {
   "cell_type": "code",
   "execution_count": 33,
   "metadata": {},
   "outputs": [
    {
     "name": "stdout",
     "output_type": "stream",
     "text": [
      "1.0 \t 0.0\n",
      "2.0 \t 1.0\n",
      "3.0 \t 1.5849625007211563\n",
      "4.0 \t 2.0\n",
      "5.0 \t 2.321928094887362\n",
      "6.0 \t 2.584962500721156\n",
      "7.0 \t 2.807354922057604\n",
      "8.0 \t 3.0\n",
      "9.0 \t 3.1699250014423126\n"
     ]
    }
   ],
   "source": [
    "import math\n",
    "x = 1.0\n",
    "while x < 10.0:\n",
    "    print(x, '\\t', math.log(x)/math.log(2.0))\n",
    "    x = x + 1.0"
   ]
  },
  {
   "cell_type": "code",
   "execution_count": 35,
   "metadata": {},
   "outputs": [
    {
     "name": "stdout",
     "output_type": "stream",
     "text": [
      "1.0 \t 0.0\n",
      "2.0 \t 1.0\n",
      "4.0 \t 2.0\n",
      "8.0 \t 3.0\n",
      "16.0 \t 4.0\n",
      "32.0 \t 5.0\n",
      "64.0 \t 6.0\n"
     ]
    }
   ],
   "source": [
    "x = 1.0\n",
    "while x < 100.0:\n",
    "    print(x, '\\t', math.log(x)/math.log(2.0))\n",
    "    x = x * 2.0"
   ]
  },
  {
   "cell_type": "code",
   "execution_count": 77,
   "metadata": {},
   "outputs": [
    {
     "name": "stdout",
     "output_type": "stream",
     "text": [
      "2 \t4 \t6 \t8 \t10 \t12 \t\n"
     ]
    }
   ],
   "source": [
    "i = 1\n",
    "while i <= 6:\n",
    "    print (2*i, '\\t', end=\"\")\n",
    "    i += 1\n",
    "print()"
   ]
  },
  {
   "cell_type": "code",
   "execution_count": 85,
   "metadata": {},
   "outputs": [],
   "source": [
    "def imprimeMultiplos(n):\n",
    "    i = 1\n",
    "    while i <= 10:\n",
    "        print(n*i,'\\t',end=\"\")\n",
    "        i += 1\n",
    "    print()"
   ]
  },
  {
   "cell_type": "code",
   "execution_count": 86,
   "metadata": {},
   "outputs": [
    {
     "name": "stdout",
     "output_type": "stream",
     "text": [
      "4 \t8 \t12 \t16 \t20 \t24 \t28 \t32 \t36 \t40 \t\n"
     ]
    }
   ],
   "source": [
    "imprimeMultiplos(4)"
   ]
  },
  {
   "cell_type": "code",
   "execution_count": 88,
   "metadata": {},
   "outputs": [
    {
     "name": "stdout",
     "output_type": "stream",
     "text": [
      "1 \t2 \t3 \t4 \t5 \t6 \t7 \t8 \t9 \t10 \t\n",
      "2 \t4 \t6 \t8 \t10 \t12 \t14 \t16 \t18 \t20 \t\n",
      "3 \t6 \t9 \t12 \t15 \t18 \t21 \t24 \t27 \t30 \t\n",
      "4 \t8 \t12 \t16 \t20 \t24 \t28 \t32 \t36 \t40 \t\n",
      "5 \t10 \t15 \t20 \t25 \t30 \t35 \t40 \t45 \t50 \t\n",
      "6 \t12 \t18 \t24 \t30 \t36 \t42 \t48 \t54 \t60 \t\n",
      "7 \t14 \t21 \t28 \t35 \t42 \t49 \t56 \t63 \t70 \t\n",
      "8 \t16 \t24 \t32 \t40 \t48 \t56 \t64 \t72 \t80 \t\n",
      "9 \t18 \t27 \t36 \t45 \t54 \t63 \t72 \t81 \t90 \t\n",
      "10 \t20 \t30 \t40 \t50 \t60 \t70 \t80 \t90 \t100 \t\n"
     ]
    }
   ],
   "source": [
    "i = 1\n",
    "while i <= 10:\n",
    "    imprimeMultiplos(i)\n",
    "    i += 1"
   ]
  },
  {
   "cell_type": "code",
   "execution_count": 93,
   "metadata": {},
   "outputs": [],
   "source": [
    "def imprimeTablaMult(n):\n",
    "    i = 1\n",
    "    while i <= n:\n",
    "        imprimeMultiplos(i)\n",
    "        i += 1"
   ]
  },
  {
   "cell_type": "code",
   "execution_count": 102,
   "metadata": {},
   "outputs": [
    {
     "name": "stdout",
     "output_type": "stream",
     "text": [
      "1 \t2 \t3 \t4 \t5 \t6 \t7 \t8 \t9 \t10 \t\n",
      "2 \t4 \t6 \t8 \t10 \t12 \t14 \t16 \t18 \t20 \t\n",
      "3 \t6 \t9 \t12 \t15 \t18 \t21 \t24 \t27 \t30 \t\n",
      "4 \t8 \t12 \t16 \t20 \t24 \t28 \t32 \t36 \t40 \t\n",
      "5 \t10 \t15 \t20 \t25 \t30 \t35 \t40 \t45 \t50 \t\n",
      "6 \t12 \t18 \t24 \t30 \t36 \t42 \t48 \t54 \t60 \t\n",
      "7 \t14 \t21 \t28 \t35 \t42 \t49 \t56 \t63 \t70 \t\n",
      "8 \t16 \t24 \t32 \t40 \t48 \t56 \t64 \t72 \t80 \t\n",
      "9 \t18 \t27 \t36 \t45 \t54 \t63 \t72 \t81 \t90 \t\n",
      "10 \t20 \t30 \t40 \t50 \t60 \t70 \t80 \t90 \t100 \t\n"
     ]
    }
   ],
   "source": [
    "imprimeTablaMult(10)"
   ]
  },
  {
   "cell_type": "code",
   "execution_count": 121,
   "metadata": {},
   "outputs": [],
   "source": [
    "def imprimeMultiplos(n, m):\n",
    "    i = 1\n",
    "    while i <= m:\n",
    "        print(n*i,'\\t',end=\"\")\n",
    "        i += 1\n",
    "    print()\n",
    "    \n",
    "def imprimeTablaMult(m):\n",
    "    i = 1\n",
    "    while i <= m:\n",
    "        imprimeMultiplos(i, m)       # probamos imprimeMultiplos(i, i)\n",
    "        i += 1"
   ]
  },
  {
   "cell_type": "code",
   "execution_count": 122,
   "metadata": {},
   "outputs": [
    {
     "name": "stdout",
     "output_type": "stream",
     "text": [
      "1 \t2 \t3 \t4 \t5 \t6 \t7 \t8 \t9 \t10 \t\n",
      "2 \t4 \t6 \t8 \t10 \t12 \t14 \t16 \t18 \t20 \t\n",
      "3 \t6 \t9 \t12 \t15 \t18 \t21 \t24 \t27 \t30 \t\n",
      "4 \t8 \t12 \t16 \t20 \t24 \t28 \t32 \t36 \t40 \t\n",
      "5 \t10 \t15 \t20 \t25 \t30 \t35 \t40 \t45 \t50 \t\n",
      "6 \t12 \t18 \t24 \t30 \t36 \t42 \t48 \t54 \t60 \t\n",
      "7 \t14 \t21 \t28 \t35 \t42 \t49 \t56 \t63 \t70 \t\n",
      "8 \t16 \t24 \t32 \t40 \t48 \t56 \t64 \t72 \t80 \t\n",
      "9 \t18 \t27 \t36 \t45 \t54 \t63 \t72 \t81 \t90 \t\n",
      "10 \t20 \t30 \t40 \t50 \t60 \t70 \t80 \t90 \t100 \t\n"
     ]
    }
   ],
   "source": [
    "imprimeTablaMult(10)"
   ]
  }
 ],
 "metadata": {
  "kernelspec": {
   "display_name": "Python 3",
   "language": "python",
   "name": "python3"
  },
  "language_info": {
   "codemirror_mode": {
    "name": "ipython",
    "version": 3
   },
   "file_extension": ".py",
   "mimetype": "text/x-python",
   "name": "python",
   "nbconvert_exporter": "python",
   "pygments_lexer": "ipython3",
   "version": "3.8.5"
  }
 },
 "nbformat": 4,
 "nbformat_minor": 4
}
